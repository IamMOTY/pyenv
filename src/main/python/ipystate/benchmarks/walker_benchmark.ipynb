{
 "cells": [
  {
   "cell_type": "code",
   "execution_count": 1,
   "metadata": {},
   "outputs": [],
   "source": [
    "import pandas as pd\n",
    "import cloudpickle as pickle\n",
    "from logging import getLogger\n",
    "\n",
    "from walker_benchmark import walker_benchmark\n",
    "\n",
    "from ipystate.impl.walker import Walker\n",
    "from ipystate.impl.cython_walker import CythonWalker\n",
    "from ipystate.impl.walker_master import WalkerMaster"
   ]
  },
  {
   "cell_type": "code",
   "execution_count": 2,
   "metadata": {},
   "outputs": [
    {
     "name": "stdout",
     "output_type": "stream",
     "text": [
      "int array time_ms: 141.860\n",
      "int array speed_mbs: 28.905\n",
      "point array time_ms: 1894.859\n",
      "point array speed_mbs: 13.519\n",
      "dict time_ms: 441.705\n",
      "dict speed_mbs: 31.793\n",
      "recursive dict time_ms: 446.898\n",
      "recursive dict speed_mbs: 31.424\n"
     ]
    }
   ],
   "source": [
    "rows = {}\n",
    "\n",
    "class PickleWalker:\n",
    "    def walk(self, ns):\n",
    "        return pickle.dumps(ns)\n",
    "rows['PickleDumps'] = walker_benchmark(walker=PickleWalker())"
   ]
  },
  {
   "cell_type": "code",
   "execution_count": 3,
   "metadata": {
    "scrolled": true
   },
   "outputs": [
    {
     "name": "stdout",
     "output_type": "stream",
     "text": [
      "int array time_ms: 30.129\n",
      "int array speed_mbs: 136.097\n",
      "point array time_ms: 634.807\n",
      "point array speed_mbs: 40.353\n",
      "dict time_ms: 58.778\n",
      "dict speed_mbs: 238.919\n",
      "recursive dict time_ms: 59.817\n",
      "recursive dict speed_mbs: 234.772\n"
     ]
    }
   ],
   "source": [
    "rows['CythonWalker'] = walker_benchmark(walker=CythonWalker(getLogger()))"
   ]
  },
  {
   "cell_type": "code",
   "execution_count": 4,
   "metadata": {},
   "outputs": [
    {
     "name": "stdout",
     "output_type": "stream",
     "text": [
      "int array time_ms: 56.569\n",
      "int array speed_mbs: 72.485\n",
      "point array time_ms: 1099.312\n",
      "point array speed_mbs: 23.302\n",
      "dict time_ms: 112.305\n",
      "dict speed_mbs: 125.046\n",
      "recursive dict time_ms: 111.778\n",
      "recursive dict speed_mbs: 125.635\n"
     ]
    }
   ],
   "source": [
    "rows['Walker'] = walker_benchmark(walker=Walker(getLogger()))"
   ]
  },
  {
   "cell_type": "code",
   "execution_count": 5,
   "metadata": {},
   "outputs": [
    {
     "name": "stdout",
     "output_type": "stream",
     "text": [
      "int array time_ms: 192.973\n",
      "int array speed_mbs: 21.249\n",
      "point array time_ms: 1638.928\n",
      "point array speed_mbs: 15.630\n",
      "dict time_ms: 387.803\n",
      "dict speed_mbs: 36.212\n",
      "recursive dict time_ms: 383.480\n",
      "recursive dict speed_mbs: 36.621\n"
     ]
    }
   ],
   "source": [
    "rows['WalkerMaster'] = walker_benchmark(walker=WalkerMaster(getLogger()))"
   ]
  },
  {
   "cell_type": "code",
   "execution_count": 6,
   "metadata": {},
   "outputs": [
    {
     "data": {
      "text/html": [
       "<div>\n",
       "<style scoped>\n",
       "    .dataframe tbody tr th:only-of-type {\n",
       "        vertical-align: middle;\n",
       "    }\n",
       "\n",
       "    .dataframe tbody tr th {\n",
       "        vertical-align: top;\n",
       "    }\n",
       "\n",
       "    .dataframe thead th {\n",
       "        text-align: right;\n",
       "    }\n",
       "</style>\n",
       "<table border=\"1\" class=\"dataframe\">\n",
       "  <thead>\n",
       "    <tr style=\"text-align: right;\">\n",
       "      <th></th>\n",
       "      <th>PickleDumps</th>\n",
       "      <th>CythonWalker</th>\n",
       "      <th>Walker</th>\n",
       "      <th>WalkerMaster</th>\n",
       "    </tr>\n",
       "  </thead>\n",
       "  <tbody>\n",
       "    <tr>\n",
       "      <th>dict speed_mbs</th>\n",
       "      <td>31.793337</td>\n",
       "      <td>238.919173</td>\n",
       "      <td>125.045951</td>\n",
       "      <td>36.212391</td>\n",
       "    </tr>\n",
       "    <tr>\n",
       "      <th>recursive dict speed_mbs</th>\n",
       "      <td>31.423930</td>\n",
       "      <td>234.771903</td>\n",
       "      <td>125.635318</td>\n",
       "      <td>36.620642</td>\n",
       "    </tr>\n",
       "    <tr>\n",
       "      <th>int array speed_mbs</th>\n",
       "      <td>28.904686</td>\n",
       "      <td>136.096798</td>\n",
       "      <td>72.485473</td>\n",
       "      <td>21.248655</td>\n",
       "    </tr>\n",
       "    <tr>\n",
       "      <th>point array speed_mbs</th>\n",
       "      <td>13.519048</td>\n",
       "      <td>40.353494</td>\n",
       "      <td>23.302469</td>\n",
       "      <td>15.630146</td>\n",
       "    </tr>\n",
       "    <tr>\n",
       "      <th>dict time_ms</th>\n",
       "      <td>441.705123</td>\n",
       "      <td>58.778372</td>\n",
       "      <td>112.304956</td>\n",
       "      <td>387.803174</td>\n",
       "    </tr>\n",
       "    <tr>\n",
       "      <th>recursive dict time_ms</th>\n",
       "      <td>446.897638</td>\n",
       "      <td>59.816698</td>\n",
       "      <td>111.778123</td>\n",
       "      <td>383.479897</td>\n",
       "    </tr>\n",
       "    <tr>\n",
       "      <th>int array time_ms</th>\n",
       "      <td>141.859905</td>\n",
       "      <td>30.128674</td>\n",
       "      <td>56.568797</td>\n",
       "      <td>192.972965</td>\n",
       "    </tr>\n",
       "    <tr>\n",
       "      <th>point array time_ms</th>\n",
       "      <td>1894.858888</td>\n",
       "      <td>634.807193</td>\n",
       "      <td>1099.312192</td>\n",
       "      <td>1638.928308</td>\n",
       "    </tr>\n",
       "  </tbody>\n",
       "</table>\n",
       "</div>"
      ],
      "text/plain": [
       "                          PickleDumps  CythonWalker       Walker  WalkerMaster\n",
       "dict speed_mbs              31.793337    238.919173   125.045951     36.212391\n",
       "recursive dict speed_mbs    31.423930    234.771903   125.635318     36.620642\n",
       "int array speed_mbs         28.904686    136.096798    72.485473     21.248655\n",
       "point array speed_mbs       13.519048     40.353494    23.302469     15.630146\n",
       "dict time_ms               441.705123     58.778372   112.304956    387.803174\n",
       "recursive dict time_ms     446.897638     59.816698   111.778123    383.479897\n",
       "int array time_ms          141.859905     30.128674    56.568797    192.972965\n",
       "point array time_ms       1894.858888    634.807193  1099.312192   1638.928308"
      ]
     },
     "execution_count": 6,
     "metadata": {},
     "output_type": "execute_result"
    }
   ],
   "source": [
    "# CythonWalker -- оптимизированный walker + компилляция Сython-ом\n",
    "# Walker       -- оптимизированный walker\n",
    "# WalkerMaster -- текущая реализация walker из master\n",
    "# PikleDumps   -- вызов функции pickle.dumps()\n",
    "df = pd.DataFrame.from_dict(rows)\n",
    "df"
   ]
  },
  {
   "cell_type": "code",
   "execution_count": null,
   "metadata": {},
   "outputs": [],
   "source": []
  }
 ],
 "metadata": {
  "kernelspec": {
   "display_name": "Python 3",
   "language": "python",
   "name": "python3"
  },
  "language_info": {
   "codemirror_mode": {
    "name": "ipython",
    "version": 3
   },
   "file_extension": ".py",
   "mimetype": "text/x-python",
   "name": "python",
   "nbconvert_exporter": "python",
   "pygments_lexer": "ipython3",
   "version": "3.7.9"
  }
 },
 "nbformat": 4,
 "nbformat_minor": 4
}
